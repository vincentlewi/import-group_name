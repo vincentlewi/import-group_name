{
 "cells": [
  {
   "cell_type": "code",
   "execution_count": 1,
   "id": "690a7586",
   "metadata": {},
   "outputs": [],
   "source": [
    "import numpy as np\n",
    "import pandas as pd\n",
    "import sklearn"
   ]
  },
  {
   "cell_type": "code",
   "execution_count": 7,
   "id": "7f6ef85c",
   "metadata": {},
   "outputs": [],
   "source": [
    "ratings = pd.read_csv('datasets/movielens_original/ratings.csv')\n",
    "movies = pd.read_csv('datasets/movielens_original/movies.csv')"
   ]
  },
  {
   "cell_type": "code",
   "execution_count": 8,
   "id": "838c9168",
   "metadata": {},
   "outputs": [],
   "source": [
    "from scipy.sparse import csr_matrix\n",
    "\n",
    "def create_X(df):\n",
    "    \"\"\"\n",
    "    Generates a sparse matrix from ratings dataframe.\n",
    "    \n",
    "    Args:\n",
    "        df: pandas dataframe\n",
    "    \n",
    "    Returns:\n",
    "        X: sparse matrix\n",
    "        user_mapper: dict that maps user id's to user indices\n",
    "        user_inv_mapper: dict that maps user indices to user id's\n",
    "        movie_mapper: dict that maps movie id's to movie indices\n",
    "        movie_inv_mapper: dict that maps movie indices to movie id's\n",
    "    \"\"\"\n",
    "    N = df['userId'].nunique()\n",
    "    M = df['movieId'].nunique()\n",
    "\n",
    "    user_mapper = dict(zip(np.unique(df[\"userId\"]), list(range(N))))\n",
    "    movie_mapper = dict(zip(np.unique(df[\"movieId\"]), list(range(M))))\n",
    "    \n",
    "    user_inv_mapper = dict(zip(list(range(N)), np.unique(df[\"userId\"])))\n",
    "    movie_inv_mapper = dict(zip(list(range(M)), np.unique(df[\"movieId\"])))\n",
    "    \n",
    "    user_index = [user_mapper[i] for i in df['userId']]\n",
    "    movie_index = [movie_mapper[i] for i in df['movieId']]\n",
    "\n",
    "    X = csr_matrix((df[\"rating\"], (movie_index, user_index)), shape=(M, N))\n",
    "    \n",
    "    return X, user_mapper, movie_mapper, user_inv_mapper, movie_inv_mapper"
   ]
  },
  {
   "cell_type": "code",
   "execution_count": 9,
   "id": "2976c817",
   "metadata": {},
   "outputs": [],
   "source": [
    "X, user_mapper, movie_mapper, user_inv_mapper, movie_inv_mapper = create_X(ratings)"
   ]
  },
  {
   "cell_type": "code",
   "execution_count": 10,
   "id": "0d39a799",
   "metadata": {},
   "outputs": [
    {
     "name": "stdout",
     "output_type": "stream",
     "text": [
      "Matrix sparsity: 0.26%\n"
     ]
    }
   ],
   "source": [
    "sparsity = X.count_nonzero()/(X.shape[0]*X.shape[1])\n",
    "\n",
    "print(f\"Matrix sparsity: {round(sparsity*100,2)}%\")"
   ]
  },
  {
   "cell_type": "markdown",
   "id": "41bcd51d",
   "metadata": {},
   "source": [
    "## Create helper functions"
   ]
  },
  {
   "cell_type": "code",
   "execution_count": 15,
   "id": "642f1610",
   "metadata": {},
   "outputs": [],
   "source": [
    "from fuzzywuzzy import process\n",
    "\n",
    "def movie_finder(title):\n",
    "    all_titles = movies['title'].tolist()\n",
    "    closest_match = process.extractOne(title,all_titles)\n",
    "    return closest_match[0]\n",
    "\n",
    "movie_title_mapper = dict(zip(movies['title'], movies['movieId']))\n",
    "movie_title_inv_mapper = dict(zip(movies['movieId'], movies['title']))\n",
    "\n",
    "def get_movie_index(title):\n",
    "    fuzzy_title = movie_finder(title)\n",
    "    movie_id = movie_title_mapper[fuzzy_title]\n",
    "    movie_idx = movie_mapper[movie_id]\n",
    "    return movie_idx\n",
    "\n",
    "def get_movie_title(movie_idx): \n",
    "    movie_id = movie_inv_mapper[movie_idx]\n",
    "    title = movie_title_inv_mapper[movie_id]\n",
    "    return title "
   ]
  },
  {
   "cell_type": "code",
   "execution_count": 20,
   "id": "54309bc2",
   "metadata": {},
   "outputs": [
    {
     "name": "stderr",
     "output_type": "stream",
     "text": [
      "C:\\Users\\Vincent\\anaconda3\\lib\\site-packages\\implicit\\utils.py:33: UserWarning: Intel MKL BLAS detected. Its highly recommend to set the environment variable 'export MKL_NUM_THREADS=1' to disable its internal multithreading\n",
      "  warnings.warn(\n"
     ]
    }
   ],
   "source": [
    "import implicit\n",
    "model = implicit.als.AlternatingLeastSquares(factors=50)"
   ]
  },
  {
   "cell_type": "code",
   "execution_count": 21,
   "id": "916e33ce",
   "metadata": {},
   "outputs": [
    {
     "data": {
      "application/vnd.jupyter.widget-view+json": {
       "model_id": "fc70765d8c4d4225a2fa9f6190b7038a",
       "version_major": 2,
       "version_minor": 0
      },
      "text/plain": [
       "  0%|          | 0/15 [00:00<?, ?it/s]"
      ]
     },
     "metadata": {},
     "output_type": "display_data"
    }
   ],
   "source": [
    "model.fit(X)"
   ]
  },
  {
   "cell_type": "code",
   "execution_count": 46,
   "id": "02107d5c",
   "metadata": {},
   "outputs": [
    {
     "data": {
      "text/plain": [
       "(array([   351, 126968,  69120, 109896,  17075,  73110,  92340, 112139,\n",
       "          8408,  10894]),\n",
       " array([1.        , 0.9679219 , 0.96761656, 0.9675863 , 0.9668234 ,\n",
       "        0.96636534, 0.9631386 , 0.9624272 , 0.96238816, 0.96222734],\n",
       "       dtype=float32))"
      ]
     },
     "execution_count": 46,
     "metadata": {},
     "output_type": "execute_result"
    }
   ],
   "source": [
    "movie_of_interest = 'forrest gump'\n",
    "\n",
    "movie_index = get_movie_index(movie_of_interest)\n",
    "related = model.similar_items(movie_index)\n",
    "related"
   ]
  },
  {
   "cell_type": "code",
   "execution_count": 47,
   "id": "af49ba83",
   "metadata": {},
   "outputs": [
    {
     "name": "stdout",
     "output_type": "stream",
     "text": [
      "Because you watched Forrest Gump (1994)...\n",
      "Jumanji (1995)\n"
     ]
    }
   ],
   "source": [
    "print(f\"Because you watched {movie_finder(movie_of_interest)}...\")\n",
    "for r in related:\n",
    "    recommended_title = get_movie_title(r[0])\n",
    "    if recommended_title != movie_finder(movie_of_interest):\n",
    "        print(recommended_title)"
   ]
  },
  {
   "cell_type": "code",
   "execution_count": 44,
   "id": "28acda2d",
   "metadata": {},
   "outputs": [
    {
     "ename": "ValueError",
     "evalue": "user_items must contain 1 row for every user in userids",
     "output_type": "error",
     "traceback": [
      "\u001b[1;31m---------------------------------------------------------------------------\u001b[0m",
      "\u001b[1;31mValueError\u001b[0m                                Traceback (most recent call last)",
      "Cell \u001b[1;32mIn[44], line 4\u001b[0m\n\u001b[0;32m      1\u001b[0m X_t \u001b[38;5;241m=\u001b[39m X\u001b[38;5;241m.\u001b[39mT\u001b[38;5;241m.\u001b[39mtocsr()\n\u001b[0;32m      3\u001b[0m user_idx \u001b[38;5;241m=\u001b[39m user_mapper[\u001b[38;5;241m373\u001b[39m]\n\u001b[1;32m----> 4\u001b[0m recommendations \u001b[38;5;241m=\u001b[39m \u001b[43mmodel\u001b[49m\u001b[38;5;241;43m.\u001b[39;49m\u001b[43mrecommend\u001b[49m\u001b[43m(\u001b[49m\u001b[43muser_idx\u001b[49m\u001b[43m,\u001b[49m\u001b[43m \u001b[49m\u001b[43mX_t\u001b[49m\u001b[43m)\u001b[49m\n\u001b[0;32m      5\u001b[0m recommendations\n",
      "File \u001b[1;32m~\\anaconda3\\lib\\site-packages\\implicit\\cpu\\matrix_factorization_base.py:49\u001b[0m, in \u001b[0;36mMatrixFactorizationBase.recommend\u001b[1;34m(self, userid, user_items, N, filter_already_liked_items, filter_items, recalculate_user, items)\u001b[0m\n\u001b[0;32m     47\u001b[0m     user_count \u001b[38;5;241m=\u001b[39m \u001b[38;5;241m1\u001b[39m \u001b[38;5;28;01mif\u001b[39;00m np\u001b[38;5;241m.\u001b[39misscalar(userid) \u001b[38;5;28;01melse\u001b[39;00m \u001b[38;5;28mlen\u001b[39m(userid)\n\u001b[0;32m     48\u001b[0m     \u001b[38;5;28;01mif\u001b[39;00m user_items\u001b[38;5;241m.\u001b[39mshape[\u001b[38;5;241m0\u001b[39m] \u001b[38;5;241m!=\u001b[39m user_count:\n\u001b[1;32m---> 49\u001b[0m         \u001b[38;5;28;01mraise\u001b[39;00m \u001b[38;5;167;01mValueError\u001b[39;00m(\u001b[38;5;124m\"\u001b[39m\u001b[38;5;124muser_items must contain 1 row for every user in userids\u001b[39m\u001b[38;5;124m\"\u001b[39m)\n\u001b[0;32m     51\u001b[0m user \u001b[38;5;241m=\u001b[39m \u001b[38;5;28mself\u001b[39m\u001b[38;5;241m.\u001b[39m_user_factor(userid, user_items, recalculate_user)\n\u001b[0;32m     53\u001b[0m item_factors \u001b[38;5;241m=\u001b[39m \u001b[38;5;28mself\u001b[39m\u001b[38;5;241m.\u001b[39mitem_factors\n",
      "\u001b[1;31mValueError\u001b[0m: user_items must contain 1 row for every user in userids"
     ]
    }
   ],
   "source": [
    "X_t = X.T.tocsr()\n",
    "\n",
    "user_idx = user_mapper[373]\n",
    "recommendations = model.recommend(user_idx, X_t)\n",
    "recommendations"
   ]
  },
  {
   "cell_type": "code",
   "execution_count": null,
   "id": "ad581976",
   "metadata": {},
   "outputs": [],
   "source": []
  }
 ],
 "metadata": {
  "kernelspec": {
   "display_name": "Python 3 (ipykernel)",
   "language": "python",
   "name": "python3"
  },
  "language_info": {
   "codemirror_mode": {
    "name": "ipython",
    "version": 3
   },
   "file_extension": ".py",
   "mimetype": "text/x-python",
   "name": "python",
   "nbconvert_exporter": "python",
   "pygments_lexer": "ipython3",
   "version": "3.9.15"
  }
 },
 "nbformat": 4,
 "nbformat_minor": 5
}
