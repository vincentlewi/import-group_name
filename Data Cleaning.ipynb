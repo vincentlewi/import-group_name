{
 "cells": [
  {
   "cell_type": "code",
   "execution_count": 38,
   "id": "3f9dc9f5",
   "metadata": {},
   "outputs": [],
   "source": [
    "import pandas as pd"
   ]
  },
  {
   "cell_type": "code",
   "execution_count": 39,
   "id": "a427ed99",
   "metadata": {},
   "outputs": [],
   "source": [
    "df = pd.read_csv('datasets/imdb_original/IMDB_Scraped.csv', dtype={'num_of_rating': str}, index_col=0)"
   ]
  },
  {
   "cell_type": "markdown",
   "id": "86865512",
   "metadata": {},
   "source": [
    "# Converting non-USD to USD in `budget` column"
   ]
  },
  {
   "cell_type": "code",
   "execution_count": 40,
   "id": "24fc3b2c",
   "metadata": {},
   "outputs": [],
   "source": [
    "budget = df['budget']"
   ]
  },
  {
   "cell_type": "code",
   "execution_count": 41,
   "id": "405dce6e",
   "metadata": {
    "scrolled": true
   },
   "outputs": [],
   "source": [
    "from forex_python.converter import CurrencyRates\n",
    "c = CurrencyRates()\n",
    "\n",
    "#  getting list of currencies\n",
    "curr = budget.apply(lambda x: re.sub(r'\\d+', '', x[:-12]).replace(',', '') if not pd.isna(x) else None).value_counts()\n",
    "\n",
    "exchange = pd.DataFrame(columns=['currency', 'rate'])\n",
    "cname = [\n",
    "    'USD', 'EUR', 'INR', 'GBP', 'CAD', 'AUD', 'SEK ', 'NOK ', 'DEM ', 'RUR ', 'ZAR',\n",
    "    'DKK', 'FRF ', 'FIM ', 'EGP ', 'HUF ', 'TRL', 'PLN', 'IRR ', 'CNY',\n",
    "    'JPY', 'KRW', 'HKD', 'BDT ', 'ITL', 'CZK ', 'IDR', 'ESP ', 'MYR ', 'MXN',\n",
    "    'NZD', 'NLG ', 'SGD ', 'CHF ', 'THB ', 'ARS ', 'PTE ', 'UAH ', 'ROL ',\n",
    "    'ZAR ', 'NTD', 'ISK ', 'DOP ', 'PKR ', 'PHP', 'ILS', 'BGL ', 'HRK ', 'EEK',\n",
    "    'AZM ', 'RON ', 'LVL ', 'BEF ', 'LKR ', 'LTL ', 'COP ', 'NPR ', 'AED ',\n",
    "    'IEP ', 'CLP ', 'VND', 'YUM ', 'SIT ', 'GRD ', 'NGN ', 'VEB ', 'MVR ',\n",
    "    'ATS ', 'MTL ', 'SAR ', 'PYG ', 'XAU ', 'MNT ', 'ALL ', 'IQD ', 'KWD ',\n",
    "    'BND ', 'GEL ', 'JMD ', 'TMM '\n",
    "    ]"
   ]
  },
  {
   "cell_type": "code",
   "execution_count": 42,
   "id": "97bcd2ae",
   "metadata": {},
   "outputs": [
    {
     "data": {
      "text/plain": [
       "{'$': 1.0,\n",
       " '€': 1.0858,\n",
       " '₹': 0.012251829368057006,\n",
       " '£': 1.2287253304363572,\n",
       " 'CA$': 0.7479506785148448,\n",
       " 'A$': 0.7018745959922431,\n",
       " 'SEK\\xa0': 0.09782422631650074,\n",
       " 'NOK\\xa0': 0.10129392777513457,\n",
       " 'DEM\\xa0': None,\n",
       " 'RUR\\xa0': None,\n",
       " 'R$': 0.0578516359683942,\n",
       " 'DKK\\xa0': 0.14594282181212115,\n",
       " 'FRF\\xa0': None,\n",
       " 'FIM\\xa0': None,\n",
       " 'EGP\\xa0': None,\n",
       " 'HUF\\xa0': 0.0027327410464852895,\n",
       " 'TRL\\xa0': 7.418037250844135e-07,\n",
       " 'PLN\\xa0': 0.23038404413324848,\n",
       " 'IRR\\xa0': None,\n",
       " 'CN¥': 0.1474430352244643,\n",
       " '¥': 0.007675125468297166,\n",
       " '₩': 0.0008093321407274897,\n",
       " 'HK$': 0.12772014021220035,\n",
       " 'BDT\\xa0': None,\n",
       " 'ITL\\xa0': None,\n",
       " 'CZK\\xa0': 0.045480438971265816,\n",
       " 'IDR\\xa0': 6.678126950836611e-05,\n",
       " 'ESP\\xa0': None,\n",
       " 'MYR\\xa0': 0.2337667929727868,\n",
       " 'MX$': 0.053068625582225096,\n",
       " 'NZ$': 0.6485098250014932,\n",
       " 'NLG\\xa0': None,\n",
       " 'SGD\\xa0': 0.7573411452884147,\n",
       " 'CHF\\xa0': 1.080075599323585,\n",
       " 'THB\\xa0': 0.03049229127467775,\n",
       " 'ARS\\xa0': None,\n",
       " 'PTE\\xa0': None,\n",
       " 'UAH\\xa0': None,\n",
       " 'ROL\\xa0': 3.3560921454343604e-05,\n",
       " 'ZAR\\xa0': 0.0578516359683942,\n",
       " 'NT$': None,\n",
       " 'ISK\\xa0': 0.006955797565663038,\n",
       " 'DOP\\xa0': None,\n",
       " 'PKR\\xa0': None,\n",
       " '₱': 0.018365413889922536,\n",
       " '₪': 0.27958937198067635,\n",
       " 'BGL\\xa0': None,\n",
       " 'HRK\\xa0': 0.14152458037550586,\n",
       " 'EEK\\xa0': 0.08539874477522275,\n",
       " 'AZM\\xa0': None,\n",
       " 'RON\\xa0': 0.22082121575725533,\n",
       " 'LVL\\xa0': 1.9622825140437448,\n",
       " 'BEF\\xa0': None,\n",
       " 'LKR\\xa0': None,\n",
       " 'LTL\\xa0': 0.35162766450417055,\n",
       " 'COP\\xa0': None,\n",
       " 'NPR\\xa0': None,\n",
       " 'AED\\xa0': None,\n",
       " 'IEP\\xa0': None,\n",
       " 'CLP\\xa0': None,\n",
       " '₫': None,\n",
       " 'YUM\\xa0': None,\n",
       " 'SIT\\xa0': 0.005495743615423135,\n",
       " 'GRD\\xa0': None,\n",
       " 'NGN\\xa0': None,\n",
       " 'VEB\\xa0': None,\n",
       " 'MVR\\xa0': None,\n",
       " 'ATS\\xa0': None,\n",
       " 'MTL\\xa0': 3.4290705800139762,\n",
       " 'SAR\\xa0': None,\n",
       " 'PYG\\xa0': None,\n",
       " 'XAU\\xa0': None,\n",
       " 'MNT\\xa0': None,\n",
       " 'ALL\\xa0': None,\n",
       " 'IQD\\xa0': None,\n",
       " 'KWD\\xa0': None,\n",
       " 'BND\\xa0': None,\n",
       " 'GEL\\xa0': None,\n",
       " 'JMD\\xa0': None,\n",
       " 'TMM\\xa0': None}"
      ]
     },
     "execution_count": 42,
     "metadata": {},
     "output_type": "execute_result"
    }
   ],
   "source": [
    "#  getting currency rate for every curr in the curr list\n",
    "rate = {}\n",
    "for cu in list(curr.index):\n",
    "    try:\n",
    "        rate[cu] = c.convert(cname[list(curr.index).index(cu)].strip(), 'USD', 1)\n",
    "    except:\n",
    "        rate[cu] = None\n",
    "rate"
   ]
  },
  {
   "cell_type": "code",
   "execution_count": 43,
   "id": "03054ed8",
   "metadata": {},
   "outputs": [],
   "source": [
    "#  converting 'budget' column\n",
    "def change(x):\n",
    "    if not pd.isna(x):\n",
    "        try:\n",
    "            amount = int(re.sub(r'[^0-9]', '', x))\n",
    "            return amount*rate[re.sub(r'\\d+', '', x[:-12]).replace(',', '')]\n",
    "        except:\n",
    "            return None\n",
    "    else:\n",
    "        return None\n",
    "df['budget'] = budget.apply(change)"
   ]
  },
  {
   "cell_type": "code",
   "execution_count": 44,
   "id": "4ab1008f",
   "metadata": {},
   "outputs": [
    {
     "name": "stdout",
     "output_type": "stream",
     "text": [
      "<class 'pandas.core.series.Series'>\n",
      "Int64Index: 113643 entries, 0 to 113642\n",
      "Series name: budget\n",
      "Non-Null Count  Dtype  \n",
      "--------------  -----  \n",
      "20581 non-null  float64\n",
      "dtypes: float64(1)\n",
      "memory usage: 1.7 MB\n"
     ]
    }
   ],
   "source": [
    "df['budget'].info()"
   ]
  },
  {
   "cell_type": "markdown",
   "id": "0951f39a",
   "metadata": {},
   "source": [
    "# Convert `num_of_rating` to int"
   ]
  },
  {
   "cell_type": "code",
   "execution_count": 45,
   "id": "46fdfc36",
   "metadata": {},
   "outputs": [
    {
     "data": {
      "text/plain": [
       "0         2700000.0\n",
       "1         2700000.0\n",
       "2         2400000.0\n",
       "3         2100000.0\n",
       "4         2100000.0\n",
       "            ...    \n",
       "113638        181.0\n",
       "113639        181.0\n",
       "113640        181.0\n",
       "113641        181.0\n",
       "113642        181.0\n",
       "Name: num_of_rating, Length: 113643, dtype: float64"
      ]
     },
     "execution_count": 45,
     "metadata": {},
     "output_type": "execute_result"
    }
   ],
   "source": [
    "def convert_num__of_rating(x):\n",
    "    conv = {'M': 10**6, 'K': 10**3}\n",
    "    if not pd.isna(x):\n",
    "        try:\n",
    "            return float(x[:-1])*conv[x[-1]]\n",
    "        except KeyError:\n",
    "            return float(x)\n",
    "    else:\n",
    "        return None\n",
    "df['num_of_rating'] = df['num_of_rating'].apply(convert_num__of_rating)\n",
    "df['num_of_rating']"
   ]
  },
  {
   "cell_type": "markdown",
   "id": "9f77a3bc",
   "metadata": {},
   "source": [
    "# Adjust `budget` for inflation"
   ]
  },
  {
   "cell_type": "code",
   "execution_count": 47,
   "id": "b1f4ef2c",
   "metadata": {},
   "outputs": [],
   "source": [
    "import cpi\n",
    "cpi.update()"
   ]
  },
  {
   "cell_type": "code",
   "execution_count": 78,
   "id": "948392ae",
   "metadata": {},
   "outputs": [],
   "source": [
    "import re\n",
    "def extract_year_from_title(title):\n",
    "    t = title.split(' ')\n",
    "    if re.search(r'\\(\\d+\\)', t[-1]):\n",
    "        year = t[-1].strip('()')\n",
    "        year = int(year)\n",
    "        return year\n",
    "    return None"
   ]
  },
  {
   "cell_type": "code",
   "execution_count": 82,
   "id": "ade2fae1",
   "metadata": {},
   "outputs": [],
   "source": [
    "#  adding year column to dataframe\n",
    "df['year'] = df['title'].apply(extract_year_from_title)"
   ]
  },
  {
   "cell_type": "code",
   "execution_count": 155,
   "id": "1b78a395",
   "metadata": {},
   "outputs": [],
   "source": [
    "df['inflated_budget'] = df.apply(lambda x: x.budget if x.year == 2023 else cpi.inflate(x.budget, int(x.year)) if x.year > 1912 else None, axis=1)"
   ]
  },
  {
   "cell_type": "code",
   "execution_count": null,
   "id": "74e9e15f",
   "metadata": {},
   "outputs": [],
   "source": []
  }
 ],
 "metadata": {
  "kernelspec": {
   "display_name": "Python 3 (ipykernel)",
   "language": "python",
   "name": "python3"
  },
  "language_info": {
   "codemirror_mode": {
    "name": "ipython",
    "version": 3
   },
   "file_extension": ".py",
   "mimetype": "text/x-python",
   "name": "python",
   "nbconvert_exporter": "python",
   "pygments_lexer": "ipython3",
   "version": "3.9.15"
  }
 },
 "nbformat": 4,
 "nbformat_minor": 5
}
