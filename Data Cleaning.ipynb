{
 "cells": [
  {
   "cell_type": "code",
   "execution_count": 1,
   "id": "3f9dc9f5",
   "metadata": {},
   "outputs": [],
   "source": [
    "import pandas as pd"
   ]
  },
  {
   "cell_type": "code",
   "execution_count": 2,
   "id": "a427ed99",
   "metadata": {},
   "outputs": [],
   "source": [
    "df = pd.read_csv('import-group_name/IMDB_Scraped.csv', dtype={'num_of_rating': str}, index_col=0)"
   ]
  },
  {
   "cell_type": "markdown",
   "id": "86865512",
   "metadata": {},
   "source": [
    "# Converting non-USD to USD in 'budget' column"
   ]
  },
  {
   "cell_type": "code",
   "execution_count": 5,
   "id": "24fc3b2c",
   "metadata": {},
   "outputs": [],
   "source": [
    "budget = df['budget']"
   ]
  },
  {
   "cell_type": "code",
   "execution_count": 6,
   "id": "405dce6e",
   "metadata": {
    "scrolled": true
   },
   "outputs": [
    {
     "data": {
      "text/plain": [
       "Index(['$', '€', '₹', '£', 'CA$', 'A$', 'SEK ', 'NOK ', 'DEM ', 'RUR ', 'R$',\n",
       "       'DKK ', 'FRF ', 'FIM ', 'EGP ', 'HUF ', 'TRL ', 'PLN ', 'IRR ', 'CN¥',\n",
       "       '¥', '₩', 'HK$', 'BDT ', 'ITL ', 'CZK ', 'IDR ', 'ESP ', 'MYR ', 'MX$',\n",
       "       'NZ$', 'NLG ', 'SGD ', 'CHF ', 'THB ', 'ARS ', 'PTE ', 'UAH ', 'ROL ',\n",
       "       'ZAR ', 'NT$', 'ISK ', 'DOP ', 'PKR ', '₱', '₪', 'BGL ', 'HRK ', 'EEK ',\n",
       "       'AZM ', 'RON ', 'LVL ', 'BEF ', 'LKR ', 'LTL ', 'COP ', 'NPR ', 'AED ',\n",
       "       'IEP ', 'CLP ', '₫', 'YUM ', 'SIT ', 'GRD ', 'NGN ', 'VEB ', 'MVR ',\n",
       "       'ATS ', 'MTL ', 'SAR ', 'PYG ', 'XAU ', 'MNT ', 'ALL ', 'IQD ', 'KWD ',\n",
       "       'BND ', 'GEL ', 'JMD ', 'TMM '],\n",
       "      dtype='object')"
      ]
     },
     "execution_count": 6,
     "metadata": {},
     "output_type": "execute_result"
    }
   ],
   "source": [
    "from forex_python.converter import CurrencyRates\n",
    "c = CurrencyRates()\n",
    "\n",
    "#  getting list of currencies\n",
    "curr = budget.apply(lambda x: re.sub(r'\\d+', '', x[:-12]).replace(',', '') if not pd.isna(x) else None).value_counts()\n",
    "\n",
    "exchange = pd.DataFrame(columns=['currency', 'rate'])\n",
    "cname = [\n",
    "    'USD', 'EUR', 'INR', 'GBP', 'CAD', 'AUD', 'SEK ', 'NOK ', 'DEM ', 'RUR ', 'ZAR',\n",
    "    'DKK', 'FRF ', 'FIM ', 'EGP ', 'HUF ', 'TRL', 'PLN', 'IRR ', 'CNY',\n",
    "    'JPY', 'KRW', 'HKD', 'BDT ', 'ITL', 'CZK ', 'IDR', 'ESP ', 'MYR ', 'MXN',\n",
    "    'NZD', 'NLG ', 'SGD ', 'CHF ', 'THB ', 'ARS ', 'PTE ', 'UAH ', 'ROL ',\n",
    "    'ZAR ', 'NTD', 'ISK ', 'DOP ', 'PKR ', 'PHP', 'ILS', 'BGL ', 'HRK ', 'EEK',\n",
    "    'AZM ', 'RON ', 'LVL ', 'BEF ', 'LKR ', 'LTL ', 'COP ', 'NPR ', 'AED ',\n",
    "    'IEP ', 'CLP ', 'VND', 'YUM ', 'SIT ', 'GRD ', 'NGN ', 'VEB ', 'MVR ',\n",
    "    'ATS ', 'MTL ', 'SAR ', 'PYG ', 'XAU ', 'MNT ', 'ALL ', 'IQD ', 'KWD ',\n",
    "    'BND ', 'GEL ', 'JMD ', 'TMM '\n",
    "    ]"
   ]
  },
  {
   "cell_type": "code",
   "execution_count": 11,
   "id": "97bcd2ae",
   "metadata": {},
   "outputs": [
    {
     "data": {
      "text/plain": [
       "{'$': 1.0,\n",
       " '€': 1.0839,\n",
       " '₹': 0.012297202241837037,\n",
       " '£': 1.2383182908717012,\n",
       " 'CA$': 0.7472595656670115,\n",
       " 'A$': 0.7032375267631221,\n",
       " 'SEK\\xa0': 0.0970063095717546,\n",
       " 'NOK\\xa0': 0.10172402466378234,\n",
       " 'DEM\\xa0': None,\n",
       " 'RUR\\xa0': None,\n",
       " 'R$': 0.05892041748206132,\n",
       " 'DKK\\xa0': 0.14568744203551123,\n",
       " 'FRF\\xa0': None,\n",
       " 'FIM\\xa0': None,\n",
       " 'EGP\\xa0': None,\n",
       " 'HUF\\xa0': 0.0027360848163574406,\n",
       " 'TRL\\xa0': 7.418037250844135e-07,\n",
       " 'PLN\\xa0': 0.2307004661260456,\n",
       " 'IRR\\xa0': None,\n",
       " 'CN¥': 0.1480879319060566,\n",
       " '¥': 0.007753773517418986,\n",
       " '₩': 0.0008105985820694607,\n",
       " 'HK$': 0.12779729761595962,\n",
       " 'BDT\\xa0': None,\n",
       " 'ITL\\xa0': None,\n",
       " 'CZK\\xa0': 0.045249227686398934,\n",
       " 'IDR\\xa0': 6.646757260596546e-05,\n",
       " 'ESP\\xa0': None,\n",
       " 'MYR\\xa0': 0.23183043162082392,\n",
       " 'MX$': 0.053607197083974226,\n",
       " 'NZ$': 0.6497032907750405,\n",
       " 'NLG\\xa0': None,\n",
       " 'SGD\\xa0': 0.7590336134453782,\n",
       " 'CHF\\xa0': 1.0941853422168384,\n",
       " 'THB\\xa0': 0.030418432352033228,\n",
       " 'ARS\\xa0': None,\n",
       " 'PTE\\xa0': None,\n",
       " 'UAH\\xa0': None,\n",
       " 'ROL\\xa0': 3.3560921454343604e-05,\n",
       " 'ZAR\\xa0': 0.05892041748206132,\n",
       " 'NT$': None,\n",
       " 'ISK\\xa0': 0.007015533980582525,\n",
       " 'DOP\\xa0': None,\n",
       " 'PKR\\xa0': None,\n",
       " '₱': 0.018318404596924118,\n",
       " '₪': 0.27958937198067635,\n",
       " 'BGL\\xa0': None,\n",
       " 'HRK\\xa0': 0.14152458037550586,\n",
       " 'EEK\\xa0': 0.08539874477522275,\n",
       " 'AZM\\xa0': None,\n",
       " 'RON\\xa0': 0.21946626710941933,\n",
       " 'LVL\\xa0': 1.9622825140437448,\n",
       " 'BEF\\xa0': None,\n",
       " 'LKR\\xa0': None,\n",
       " 'LTL\\xa0': 0.35162766450417055,\n",
       " 'COP\\xa0': None,\n",
       " 'NPR\\xa0': None,\n",
       " 'AED\\xa0': None,\n",
       " 'IEP\\xa0': None,\n",
       " 'CLP\\xa0': None,\n",
       " '₫': None,\n",
       " 'YUM\\xa0': None,\n",
       " 'SIT\\xa0': 0.005495743615423135,\n",
       " 'GRD\\xa0': None,\n",
       " 'NGN\\xa0': None,\n",
       " 'VEB\\xa0': None,\n",
       " 'MVR\\xa0': None,\n",
       " 'ATS\\xa0': None,\n",
       " 'MTL\\xa0': 3.4290705800139762,\n",
       " 'SAR\\xa0': None,\n",
       " 'PYG\\xa0': None,\n",
       " 'XAU\\xa0': None,\n",
       " 'MNT\\xa0': None,\n",
       " 'ALL\\xa0': None,\n",
       " 'IQD\\xa0': None,\n",
       " 'KWD\\xa0': None,\n",
       " 'BND\\xa0': None,\n",
       " 'GEL\\xa0': None,\n",
       " 'JMD\\xa0': None,\n",
       " 'TMM\\xa0': None}"
      ]
     },
     "execution_count": 11,
     "metadata": {},
     "output_type": "execute_result"
    }
   ],
   "source": [
    "#  getting currency rate for every curr in the curr list\n",
    "rate = {}\n",
    "for cu in list(curr.index):\n",
    "    try:\n",
    "        rate[cu] = c.convert(cname[list(curr.index).index(cu)].strip(), 'USD', 1)\n",
    "    except:\n",
    "        rate[cu] = None\n",
    "rate"
   ]
  },
  {
   "cell_type": "code",
   "execution_count": 19,
   "id": "03054ed8",
   "metadata": {},
   "outputs": [],
   "source": [
    "#  converting 'budget' column\n",
    "def change(x):\n",
    "    if not pd.isna(x):\n",
    "        try:\n",
    "            amount = int(re.sub(r'[^0-9]', '', x))\n",
    "            return amount*rate[re.sub(r'\\d+', '', x[:-12]).replace(',', '')]\n",
    "        except:\n",
    "            return None\n",
    "    else:\n",
    "        return None\n",
    "df['budget'] = budget.apply(change)"
   ]
  },
  {
   "cell_type": "code",
   "execution_count": 21,
   "id": "4ab1008f",
   "metadata": {},
   "outputs": [
    {
     "name": "stdout",
     "output_type": "stream",
     "text": [
      "<class 'pandas.core.series.Series'>\n",
      "Int64Index: 113643 entries, 0 to 113642\n",
      "Series name: budget\n",
      "Non-Null Count  Dtype  \n",
      "--------------  -----  \n",
      "20581 non-null  float64\n",
      "dtypes: float64(1)\n",
      "memory usage: 5.8 MB\n"
     ]
    }
   ],
   "source": [
    "df['budget'].info()"
   ]
  },
  {
   "cell_type": "code",
   "execution_count": 23,
   "id": "7e1520bf",
   "metadata": {},
   "outputs": [
    {
     "name": "stdout",
     "output_type": "stream",
     "text": [
      "<class 'pandas.core.series.Series'>\n",
      "Int64Index: 113643 entries, 0 to 113642\n",
      "Series name: budget\n",
      "Non-Null Count  Dtype \n",
      "--------------  ----- \n",
      "21383 non-null  object\n",
      "dtypes: object(1)\n",
      "memory usage: 5.8+ MB\n"
     ]
    }
   ],
   "source": [
    "budget.info()"
   ]
  },
  {
   "cell_type": "code",
   "execution_count": null,
   "id": "4d6ba3bf",
   "metadata": {},
   "outputs": [],
   "source": []
  }
 ],
 "metadata": {
  "kernelspec": {
   "display_name": "Python 3 (ipykernel)",
   "language": "python",
   "name": "python3"
  },
  "language_info": {
   "codemirror_mode": {
    "name": "ipython",
    "version": 3
   },
   "file_extension": ".py",
   "mimetype": "text/x-python",
   "name": "python",
   "nbconvert_exporter": "python",
   "pygments_lexer": "ipython3",
   "version": "3.9.15"
  }
 },
 "nbformat": 4,
 "nbformat_minor": 5
}
