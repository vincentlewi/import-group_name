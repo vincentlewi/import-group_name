{
 "cells": [
  {
   "cell_type": "code",
   "execution_count": 1,
   "id": "2de2dc70",
   "metadata": {},
   "outputs": [],
   "source": [
    "from bs4 import BeautifulSoup\n",
    "import requests\n",
    "from selenium import webdriver\n",
    "from selenium.webdriver.common.desired_capabilities import DesiredCapabilities\n",
    "import time\n",
    "import locale\n",
    "import pandas as pd\n",
    "import cchardet\n",
    "import threading\n",
    "import random\n",
    "\n",
    "locale.setlocale(locale.LC_ALL, 'en_US.UTF-8')\n",
    "headers = {\"user-agent\": \"Mozilla/5.0 (Windows NT 10.0; Win64; x64) AppleWebKit/537.36 (KHTML, like Gecko) Chrome/108.0.0.0 Safari/537.36\"}"
   ]
  },
  {
   "cell_type": "code",
   "execution_count": 5,
   "id": "0041f97c",
   "metadata": {},
   "outputs": [],
   "source": [
    "options = webdriver.ChromeOptions()\n",
    "options.add_argument('headless')\n",
    "capa = DesiredCapabilities.CHROME\n",
    "capa[\"pageLoadStrategy\"] = \"none\"\n",
    "driver = webdriver.Chrome(options=options, desired_capabilities=capa)\n",
    "driver.set_window_size(1440,900)\n",
    "requests_session = requests.Session()\n",
    "link = '/search/title/?moviemeter=0,&sort=num_votes,desc&count=250'\n",
    "# endgame\n",
    "# link = '/search/title/?moviemeter=,1'\n",
    "details = ['title', 'runtime', 'certificate', 'rating', 'num_of_rating', 'origin', 'budget', 'worldwide_gross', 'cast']\n",
    "credits = ['director', 'writer', 'producer', 'composer', 'cinematographer', 'editor']\n",
    "data = pd.DataFrame(columns = details + credits)\n",
    "\n",
    "def get_movie_data(movie):\n",
    "    index = len(data)\n",
    "    overview_link = movie.h3.a['href']\n",
    "    overview_html = requests_session.get(f'https://www.imdb.com/{overview_link[:-16]}', headers=headers).text\n",
    "    overview_soup = BeautifulSoup(overview_html, 'lxml')\n",
    "    credits_html = requests_session.get(f'https://www.imdb.com/{overview_link[:-16]}/fullcredits', headers=headers).text\n",
    "    credits_soup = BeautifulSoup(credits_html, 'lxml')\n",
    "\n",
    "    title = ' '.join(credits_soup.find('h3').text.split())\n",
    "    movie_data = [title]\n",
    "\n",
    "    #  movie details\n",
    "    detail = {\n",
    "        'runtime': movie.select_one('span.runtime'),\n",
    "        'certificate': movie.select_one('span.certificate'),\n",
    "        'rating': overview_soup.select_one('span.jGRxWM'),\n",
    "        'num_of_rating': overview_soup.select_one('div.dPVcnq'),\n",
    "        'origin': overview_soup.select_one('li[data-testid=\"title-details-origin\"] div'),\n",
    "        'budget': overview_soup.select_one('li[data-testid=\"title-boxoffice-budget\"] div'),\n",
    "        'worldwide_gross': overview_soup.select_one('li[data-testid=\"title-boxoffice-cumulativeworldwidegross\"] div')\n",
    "        }\n",
    "    movie_data += [v.text if v else None for v in detail.values()]\n",
    "\n",
    "    casts = credits_soup.select_one('table.cast_list')\n",
    "\n",
    "    if casts:\n",
    "        movie_data.append(','.join([cast.text.strip() for cast in casts.find_all('td', attrs={'class': None}) if cast.text.strip()]))\n",
    "    else:\n",
    "        movie_data.append(None)\n",
    "\n",
    "    #  movie credits\n",
    "    for credit in credits:\n",
    "        c = credits_soup.find('h4', id=credit)\n",
    "        if c:\n",
    "            movie_data.append(','.join([cred.text.strip() for cred in c.find_next_sibling().select(\"a\") if cred.text != \"\"]))\n",
    "        else:\n",
    "            movie_data.append(None)\n",
    "\n",
    "    #  add movie_data into dataframe\n",
    "    data.loc[index] = movie_data\n",
    "    print(f'Scraped movie: {index + 1}', end='\\r', flush=True)"
   ]
  },
  {
   "cell_type": "code",
   "execution_count": 6,
   "id": "a200d3d5",
   "metadata": {},
   "outputs": [
    {
     "name": "stdout",
     "output_type": "stream",
     "text": [
      "Scraped movie: 1084ovie #2510ing on movie #2243raped movie: 70Scraped movie: 115Scraped movie: 144Scraped movie: 156Scraped movie: 246Scraped movie: 257start scraping on movie #644start scraping on movie #877Scraped movie: 399Scraped movie: 502start scraping on movie #1400start scraping on movie #1740Scraped movie: 962\r"
     ]
    }
   ],
   "source": [
    "i = 0\n",
    "while True:\n",
    "    driver.get(f'https://www.imdb.com{link}')\n",
    "    time.sleep(3)\n",
    "\n",
    "    plain_text = driver.page_source\n",
    "    soup = BeautifulSoup(plain_text, 'lxml')\n",
    "\n",
    "    movies = soup.select('div.lister-item-content')\n",
    "    for movie in movies:\n",
    "        t = threading.Thread(target=get_movie_data, args=(movie,))\n",
    "        i += 1\n",
    "        print(f'start scraping on movie #{i}', end='\\r', flush=True)\n",
    "        time.sleep(random.random() + 2)\n",
    "        t.start()\n",
    "    next_button = soup.select_one('a.next-page')\n",
    "    if next_button:\n",
    "        link = next_button['href']\n",
    "    else:\n",
    "        break"
   ]
  },
  {
   "cell_type": "code",
   "execution_count": 4,
   "id": "97db044b",
   "metadata": {},
   "outputs": [
    {
     "data": {
      "text/html": [
       "<div>\n",
       "<style scoped>\n",
       "    .dataframe tbody tr th:only-of-type {\n",
       "        vertical-align: middle;\n",
       "    }\n",
       "\n",
       "    .dataframe tbody tr th {\n",
       "        vertical-align: top;\n",
       "    }\n",
       "\n",
       "    .dataframe thead th {\n",
       "        text-align: right;\n",
       "    }\n",
       "</style>\n",
       "<table border=\"1\" class=\"dataframe\">\n",
       "  <thead>\n",
       "    <tr style=\"text-align: right;\">\n",
       "      <th></th>\n",
       "      <th>title</th>\n",
       "      <th>runtime</th>\n",
       "      <th>certificate</th>\n",
       "      <th>rating</th>\n",
       "      <th>num_of_rating</th>\n",
       "      <th>origin</th>\n",
       "      <th>budget</th>\n",
       "      <th>worldwide_gross</th>\n",
       "      <th>cast</th>\n",
       "      <th>director</th>\n",
       "      <th>writer</th>\n",
       "      <th>producer</th>\n",
       "      <th>composer</th>\n",
       "      <th>cinematographer</th>\n",
       "      <th>editor</th>\n",
       "    </tr>\n",
       "  </thead>\n",
       "  <tbody>\n",
       "  </tbody>\n",
       "</table>\n",
       "</div>"
      ],
      "text/plain": [
       "Empty DataFrame\n",
       "Columns: [title, runtime, certificate, rating, num_of_rating, origin, budget, worldwide_gross, cast, director, writer, producer, composer, cinematographer, editor]\n",
       "Index: []"
      ]
     },
     "execution_count": 4,
     "metadata": {},
     "output_type": "execute_result"
    }
   ],
   "source": [
    "data"
   ]
  },
  {
   "cell_type": "code",
   "execution_count": 147,
   "id": "da9f8f40",
   "metadata": {},
   "outputs": [
    {
     "name": "stdout",
     "output_type": "stream",
     "text": [
      "<class 'pandas.core.frame.DataFrame'>\n",
      "Int64Index: 893 entries, 0 to 892\n",
      "Data columns (total 15 columns):\n",
      " #   Column           Non-Null Count  Dtype \n",
      "---  ------           --------------  ----- \n",
      " 0   title            893 non-null    object\n",
      " 1   runtime          891 non-null    object\n",
      " 2   certificate      889 non-null    object\n",
      " 3   rating           893 non-null    object\n",
      " 4   num_of_rating    893 non-null    object\n",
      " 5   origin           893 non-null    object\n",
      " 6   budget           704 non-null    object\n",
      " 7   worldwide_gross  750 non-null    object\n",
      " 8   cast             893 non-null    object\n",
      " 9   director         893 non-null    object\n",
      " 10  writer           893 non-null    object\n",
      " 11  producer         893 non-null    object\n",
      " 12  composer         858 non-null    object\n",
      " 13  cinematographer  863 non-null    object\n",
      " 14  editor           890 non-null    object\n",
      "dtypes: object(15)\n",
      "memory usage: 143.9+ KB\n"
     ]
    }
   ],
   "source": [
    "data.info()"
   ]
  },
  {
   "cell_type": "code",
   "execution_count": 108,
   "id": "145bd9b9",
   "metadata": {},
   "outputs": [
    {
     "name": "stdout",
     "output_type": "stream",
     "text": [
      "0\n",
      "1\n",
      "2\n",
      "3\n",
      "4\n",
      "5\n",
      "6\n",
      "7\n",
      "8\n",
      "9\n",
      "[0, 1, 2, 3, 4, 5, 6, 7, 8, 9]\n"
     ]
    }
   ],
   "source": [
    "import threading\n",
    "\n",
    "test_list = []\n",
    "\n",
    "def print_index(i):\n",
    "    test_list.append(i)\n",
    "    print(i)\n",
    "\n",
    "for i in range(10):\n",
    "    t = threading.Thread(target=print_index, args=(i,))\n",
    "    t.start()\n",
    "\n",
    "print(test_list)"
   ]
  },
  {
   "cell_type": "code",
   "execution_count": null,
   "id": "a5eecb09",
   "metadata": {},
   "outputs": [],
   "source": []
  }
 ],
 "metadata": {
  "kernelspec": {
   "display_name": "Python 3 (ipykernel)",
   "language": "python",
   "name": "python3"
  },
  "language_info": {
   "codemirror_mode": {
    "name": "ipython",
    "version": 3
   },
   "file_extension": ".py",
   "mimetype": "text/x-python",
   "name": "python",
   "nbconvert_exporter": "python",
   "pygments_lexer": "ipython3",
   "version": "3.9.15"
  }
 },
 "nbformat": 4,
 "nbformat_minor": 5
}
